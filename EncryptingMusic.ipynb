{
  "nbformat": 4,
  "nbformat_minor": 0,
  "metadata": {
    "colab": {
      "provenance": []
    },
    "kernelspec": {
      "name": "python3",
      "display_name": "Python 3"
    },
    "language_info": {
      "name": "python"
    }
  },
  "cells": [
    {
      "cell_type": "code",
      "execution_count": null,
      "metadata": {
        "colab": {
          "base_uri": "https://localhost:8080/"
        },
        "id": "5d2NXtR2wnR3",
        "outputId": "9060e177-af78-4230-c7d3-d027af6ffc0c"
      },
      "outputs": [
        {
          "output_type": "stream",
          "name": "stdout",
          "text": [
            "Collecting pydub\n",
            "  Downloading pydub-0.25.1-py2.py3-none-any.whl (32 kB)\n",
            "Installing collected packages: pydub\n",
            "Successfully installed pydub-0.25.1\n"
          ]
        }
      ],
      "source": [
        "pip install pydub"
      ]
    },
    {
      "cell_type": "code",
      "source": [
        "import soundfile as sf\n",
        "import numpy as np\n",
        "import librosa\n",
        "from pydub import AudioSegment\n",
        "from pydub.exceptions import CouldntDecodeError\n",
        "\n",
        "def text_to_binary(text):\n",
        "    return ''.join(format(ord(char), '08b') for char in text)\n",
        "\n",
        "def binary_to_text(binary_data):\n",
        "    if not binary_data:\n",
        "        return ''\n",
        "    return ''.join(chr(int(binary_data[i:i+8], 2)) for i in range(0, len(binary_data), 8))\n",
        "def embed_bit(value, bit):\n",
        "    # Embed the bit into the least significant bit of value\n",
        "    return (value & ~1) | bit\n",
        "def encrypt_message_to_audio(message, key, audio_input_path, audio_output_path):\n",
        "    y, sr = librosa.load(audio_input_path, sr=None)\n",
        "    binary_message = text_to_binary(message)\n",
        "    binary_key = text_to_binary(key)\n",
        "    combined_binary = binary_key + format(len(binary_message), '016b') + binary_message\n",
        "\n",
        "    if len(combined_binary) > len(y) * 8:\n",
        "        raise ValueError(\"Audio file is not long enough to hold the message.\")\n",
        "\n",
        "    binary_index = 0\n",
        "    for i in range(len(y)):\n",
        "        if binary_index >= len(combined_binary):\n",
        "            break\n",
        "        v = y[i] * 32767\n",
        "        sample_in = int(y[i] * 32767)\n",
        "        sample = int(y[i] * 32767)\n",
        "        bit = int(combined_binary[binary_index])\n",
        "        sample = embed_bit(sample, bit)\n",
        "        binary_index += 1\n",
        "        if sample == sample_in:\n",
        "          y[i] = v/32767\n",
        "        else:\n",
        "          y[i] = sample / 32767\n",
        "    sf.write(audio_output_path, y, sr)\n",
        "def decrypt_message_from_audio(encrypted_audio_path, key):\n",
        "    y, sr = librosa.load(encrypted_audio_path, sr=None)\n",
        "    extracted_binary = ''\n",
        "    for i in range(len(y)):\n",
        "        sample = int(y[i] * 32767)\n",
        "        extracted_binary += str(sample & 1)\n",
        "\n",
        "    binary_key = text_to_binary(key)\n",
        "    extracted_key = extracted_binary[:len(binary_key)]\n",
        "\n",
        "    print(f\"Extracted key (binary): {extracted_key}\")\n",
        "    print(f\"Expected key (binary): {binary_key}\")\n",
        "    if extracted_key != binary_key:\n",
        "        raise ValueError(\"Decryption key does not match.\")\n",
        "\n",
        "    binary_message_length = extracted_binary[len(binary_key):len(binary_key)+16]\n",
        "    binary_message = extracted_binary[len(binary_key)+16:]\n",
        "\n",
        "    message_length = int(binary_message_length, 2)\n",
        "    message = binary_to_text(binary_message[:message_length])\n",
        "    return message\n",
        "def convert_mp3_to_wav(mp3_path, wav_path):\n",
        "    try:\n",
        "        audio = AudioSegment.from_mp3(mp3_path)\n",
        "        audio.export(wav_path, format=\"wav\")\n",
        "    except CouldntDecodeError:\n",
        "        print(\"Error: Could not decode MP3 file. Make sure the file is not corrupted.\")\n",
        "def main_encrypt():\n",
        "    message = input(\"Enter the message to encrypt: \").strip()\n",
        "    key = input(\"Enter the encryption key (can be characters and/or integers): \").strip()\n",
        "    audio_input_path = input(\"Enter the path to the audio file (MP3) to encrypt: \").strip()\n",
        "    audio_output_path = \"encrypted_message.wav\"\n",
        "    if audio_input_path.endswith(\".mp3\"):\n",
        "        wav_path = \"temp_audio.wav\"\n",
        "        convert_mp3_to_wav(audio_input_path, wav_path)\n",
        "        audio_input_path = wav_path\n",
        "    encrypt_message_to_audio(message, key, audio_input_path, audio_output_path)\n",
        "    print(f\"Encrypted message saved to {audio_output_path}\")\n",
        "    return audio_output_path\n",
        "def main_decrypt(encrypted_audio_path):\n",
        "    key = input(\"Enter the decryption key (same as used during encryption): \").strip()\n",
        "    # print(decrypt_message_from_audio(encrypted_audio_path, key))\n",
        "    message = decrypt_message_from_audio(encrypted_audio_path, key)\n",
        "    print(\"Decrypted message:\", message)\n",
        "if __name__ == \"__main__\":\n",
        "    choice = input(\"Choose (1) to encrypt or (2) to decrypt: \").strip()\n",
        "    if choice == '1':\n",
        "        encrypted_audio_path = main_encrypt()\n",
        "        print(f\"Encrypted audio path: {encrypted_audio_path}\")\n",
        "    elif choice == '2':\n",
        "        encrypted_audio_path = input(\"Enter the path to the encrypted audio file: \").strip()\n",
        "        main_decrypt(encrypted_audio_path)\n",
        "    else:\n",
        "        print(\"Invalid choice.\")"
      ],
      "metadata": {
        "colab": {
          "base_uri": "https://localhost:8080/"
        },
        "id": "_8DZFwQ4w1xc",
        "outputId": "0b3af048-4cc6-49d9-b86e-eaf64e2475a6"
      },
      "execution_count": null,
      "outputs": [
        {
          "name": "stdout",
          "output_type": "stream",
          "text": [
            "Choose (1) to encrypt or (2) to decrypt: 1\n",
            "Enter the message to encrypt: hello\n",
            "Enter the encryption key (can be characters and/or integers): 23\n"
          ]
        }
      ]
    },
    {
      "cell_type": "code",
      "source": [],
      "metadata": {
        "id": "RWDEU7Vaw73y"
      },
      "execution_count": null,
      "outputs": []
    }
  ]
}